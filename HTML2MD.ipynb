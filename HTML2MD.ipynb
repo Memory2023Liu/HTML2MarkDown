#########html to md - html2text (Priority consideration! More comprehensive functionality)
## Install necessary packages

import html2text  # Import html2text for HTML to Markdown conversion
import os  # Import os for directory and file operations
import re  # Import re for regular expressions
from bs4 import BeautifulSoup  # Import BeautifulSoup for HTML parsing

# specify path
input_directory = '/Users/xl24/Backup/Python Scripts/S_Data/'  # Define input directory path
output_directory = '/Users/xl24/Backup/Python Scripts/S_Data/export'  # Define output directory path

def convert_html_to_md(input_file, output_file, default_font_size="16px"):  # Define function to convert HTML to Markdown
    try:
        # Read HTML file content
        with open(input_file, 'r', encoding='utf-8') as file:  # Open input HTML file
            html_content = file.read()  # Read HTML content
        # Parse HTML content with BeautifulSoup
        soup = BeautifulSoup(html_content, 'html.parser')  # Parse HTML content with BeautifulSoup

        # Custom processing: highlight, color, and uniform font size
        for span in soup.find_all('span'):  # Iterate over all span tags
            style = span.get('style', '')  # Get the style attribute of the span
            
            # Uniform font size
            if 'font-size' in style:  # Check if font-size is in style
                # Replace original font-size with default size
                span['style'] = re.sub(r'font-size:\s*[^;]+;', f'font-size: {default_font_size};', style)  # Replace font-size with default
            else:
                # If no font-size attribute, add default size
                span['style'] = f'{style}; font-size: {default_font_size};'  # Add default font-size if missing
            
            # Handle background highlight
            if 'background-color' in style:  # Check if background-color is in style
                bg_color = re.search(r'background-color:\s*([^;]+)', style)  # Extract background-color value
                if bg_color:
                    span.string = f'=={span.text}=='  # Apply highlight formatting to text

            # # Set font color if applicable (not very useful)
            # if 'color' in style:
            #     font_color = re.search(r'color:\s*([^;]+)', style)
            #     if font_color:
            #         color_value = font_color.group(1).strip()
            #         span.string = f'<font color="{color_value}">{span.text}</font>'

            # Handle font color - colored text (only keep red)
            if 'color' in style:  # Check if color is in style
                font_color = re.search(r'color:\s*([^;]+)', style)  # Extract color value
                if font_color and 'rgb(0, 0, 0)' not in font_color.group(1):  # Skip if color is black
                    color_value = font_color.group(1).strip()  # Get the color value
                    # Parse RGB values if present
                    rgb_match = re.search(r'rgb\((\d+),\s*(\d+),\s*(\d+)\)', color_value)  # Match RGB format
                    if rgb_match:
                        r, g, b = map(int, rgb_match.groups())  # Extract RGB components
                        # Check if color is red (high R value, low G and B values)
                        if r > 200 and g < 100 and b < 100:
                            span.string = f'<font color="red">{span.text}</font>'  # Apply red font color to text
                    # Handle named red color
                    elif 'red' in color_value.lower():
                        span.string = f'<font color="red">{span.text}</font>'  # Apply red font color to text
                
        ############# The following is batch adjustment to generate markdown file format, very useful! This part can also be batch replaced in the generated XL's note.md file according to the actual situation
        # Handle "~" symbol, it will shrink the font in .md
        for text in soup.find_all(text=True):  # Iterate over all text in the soup
            if '~' in text:  # Check if '~' is in the text
                new_text = text.replace('~', '-')  # Replace '~' with '-'
                text.replace_with(new_text)  # Update the text in the soup
        
        # Convert HTML to Markdown using html2text
        h2t = html2text.HTML2Text()
        h2t.ignore_links = False
        h2t.body_width = 0  # Disable automatic line wrapping
        markdown_content = h2t.handle(str(soup))
        
        # Remove consecutive '====' from highlighted text
        markdown_content = re.sub(r'={4,}', '', markdown_content)
        
        # Remove ' ==' from highlighted text
        markdown_content = re.sub(r' ==', '==', markdown_content)
        
        # Recover bullet point 
        markdown_content = markdown_content.replace('*==', '* ==')
        
        # Remove double * - only use when needed, no need use every time
        # markdown_content = markdown_content.replace('* *', '*')
        
        # Escape '$' symbol to avoid it being interpreted as a formula
        markdown_content = markdown_content.replace('$', '\\$')
        
        # Escape '#' symbol to avoid it being interpreted as a header
        markdown_content = markdown_content.replace('#', '\\#')
        
        # Remove extra blank lines; keep the \n if there is no * before text
        markdown_content = re.sub(r'\n\n', '\n', markdown_content) # This command can delete extra blank lines, but keep necessary line breaks, for example, there should be a blank line before the text without *, otherwise the content will be attributed to the previous bullet point
        # markdown_content = re.sub(r'\n\s*\n', '\n', markdown_content) # The regular expression \n\s*\n will match all whitespace characters between two newline characters and replace them with one newline character. This means it will remove all extra blank lines, including those containing spaces or tabs.
        #############
        # Write Markdown content to file
        with open(output_file, 'w', encoding='utf-8') as file:  # Open output Markdown file
            file.write(markdown_content)  # Write Markdown content to file
    
    except Exception as e:
        print(f"Error converting {input_file}: {e}")  # Print error message if conversion fails

def process_directory(input_directory, output_directory, default_font_size="16px"):  # Define function to process directory
    # Ensure output directory exists
    os.makedirs(output_directory, exist_ok=True)  # Create output directory if it doesn't exist

    # Iterate over .html files in the input directory
    for filename in os.listdir(input_directory):  # Iterate over files in input directory
        if filename.endswith('.html'):  # Check if file is an HTML file
            input_path = os.path.join(input_directory, filename)  # Define input file path
            output_path = os.path.join(output_directory, filename.replace('.html', '.md'))  # Define output file path
            
            # Call conversion function
            convert_html_to_md(input_path, output_path, default_font_size)  # Convert HTML to Markdown
            print(f"Converted {filename} to Markdown.")  # Print conversion status
    
    print("All files converted.")  # Print completion message

# Call processing function
process_directory(input_directory, output_directory, default_font_size="16px")  # Execute directory processing

def merge_markdown_files(input_directory, output_file):  # Define function to merge Markdown files
    """
    Merge all markdown (.md) files in the input_directory into a single file (output_file).
    Each file starts a new chapter with its filename as the chapter title.
    Validates that all markdown files are processed correctly.

    Parameters:
    - input_directory: str, path to the directory containing the .md files.
    - output_file: str, path to the output markdown file.
    """
    try:
        # List of markdown files in the input directory, excluding the output file
        md_files = [f for f in os.listdir(input_directory) 
                    if f.endswith('.md') and f != os.path.basename(output_file)]  # Get list of Markdown files
        md_files.sort()  # Sort the files for consistent ordering
        
        # Track number of processed files
        processed_files_count = 0  # Initialize processed files count
        
        with open(output_file, 'w', encoding='utf-8') as outfile:  # Open output file for writing
            for filename in md_files:  # Iterate over Markdown files
                chapter_name = os.path.splitext(filename)[0]  # Extract filename without extension
                with open(os.path.join(input_directory, filename), 'r', encoding='utf-8') as infile:  # Open each Markdown file
                    # Write chapter title and content to the output file
                    outfile.write(f"# {chapter_name}\n\n")  # Write chapter title
                    outfile.write(infile.read())  # Write file content
                    outfile.write("\n\n")  # Add spacing
                    processed_files_count += 1  # Increment processed files count
                    print(f"Added chapter: {chapter_name}")  # Log progress
    
        # Verification
        if processed_files_count == len(md_files):  # Check if all files are processed
            print(f"All {processed_files_count} markdown files merged successfully.")  # Success message
        else:
            print(f"Warning: Expected {len(md_files)} files, but processed {processed_files_count} files.")  # Warning message
    
    except Exception as e:
        print(f"An error occurred: {e}")  # Print error message if merging fails

# Merge all markdown files into one
merge_markdown_files(output_directory, os.path.join(output_directory, "XL's note.md"))  # Execute merging of Markdown files
print(f"All markdown files merged into XL's note.md.")  # Print completion message
